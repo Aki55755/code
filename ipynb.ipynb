{
  "nbformat": 4,
  "nbformat_minor": 0,
  "metadata": {
    "colab": {
      "provenance": [],
      "authorship_tag": "ABX9TyOLdN9w/U5hWltpsXTSyNbQ",
      "include_colab_link": true
    },
    "kernelspec": {
      "name": "python3",
      "display_name": "Python 3"
    },
    "language_info": {
      "name": "python"
    }
  },
  "cells": [
    {
      "cell_type": "markdown",
      "metadata": {
        "id": "view-in-github",
        "colab_type": "text"
      },
      "source": [
        "<a href=\"https://colab.research.google.com/github/Aki55755/code/blob/main/ipynb.ipynb\" target=\"_parent\"><img src=\"https://colab.research.google.com/assets/colab-badge.svg\" alt=\"Open In Colab\"/></a>"
      ]
    },
    {
      "cell_type": "code",
      "source": [
        "Running the Games\n",
        "\n",
        "\n",
        "# Run Tic-Tac-Toe with Alpha-Beta search for 'O' and Random Player for 'X'\n",
        "result1 = play_game(TicTacToe(), {'X': random_player, 'O': alpha_beta_player}, verbose=True)\n",
        "print(f\"Result with Alpha-Beta vs Random: {result1}\")\n",
        "\n",
        "# Run Tic-Tac-Toe with Minimax search for 'O' and Alpha-Beta search for 'X'\n",
        "result2 = play_game(TicTacToe(), {'X': alpha_beta_player, 'O': minimax_player}, verbose=True)\n",
        "print(f\"Result with Minimax vs Alpha-Beta: {result2}\")\n"
      ],
      "metadata": {
        "colab": {
          "base_uri": "https://localhost:8080/",
          "height": 110
        },
        "id": "oTxnxHer_vK6",
        "outputId": "01a94885-898d-47a2-dbaa-a13b71b0fb67"
      },
      "execution_count": 5,
      "outputs": [
        {
          "output_type": "error",
          "ename": "SyntaxError",
          "evalue": "invalid syntax (<ipython-input-5-acc7d27290b6>, line 1)",
          "traceback": [
            "\u001b[0;36m  File \u001b[0;32m\"<ipython-input-5-acc7d27290b6>\"\u001b[0;36m, line \u001b[0;32m1\u001b[0m\n\u001b[0;31m    Running the Games\u001b[0m\n\u001b[0m            ^\u001b[0m\n\u001b[0;31mSyntaxError\u001b[0m\u001b[0;31m:\u001b[0m invalid syntax\n"
          ]
        }
      ]
    },
    {
      "cell_type": "code",
      "source": [],
      "metadata": {
        "id": "8Bb5v_J4_vPT"
      },
      "execution_count": null,
      "outputs": []
    }
  ]
}